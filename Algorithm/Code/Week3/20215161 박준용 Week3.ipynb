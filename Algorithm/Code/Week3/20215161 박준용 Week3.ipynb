{
 "cells": [
  {
   "cell_type": "markdown",
   "id": "75a7f42c-4385-4a82-897d-3157cc3453a0",
   "metadata": {},
   "source": [
    "## Tensor Workshop"
   ]
  },
  {
   "cell_type": "markdown",
   "id": "14e347f5-eade-4b93-9726-5a1e905d6c17",
   "metadata": {},
   "source": [
    "### <a href=\"https://www.acmicpc.net/problem/13458\">BOJ 13458</a>"
   ]
  },
  {
   "cell_type": "code",
   "execution_count": null,
   "id": "a1c73247-d25f-4d7c-ae73-87646c68c81d",
   "metadata": {},
   "outputs": [],
   "source": []
  },
  {
   "cell_type": "markdown",
   "id": "a5ed55b1-62ef-42a4-9bb4-2efc73cf9160",
   "metadata": {},
   "source": [
    "### <a href=\"https://www.acmicpc.net/problem/13458\">BOJ 11560</a>"
   ]
  },
  {
   "cell_type": "code",
   "execution_count": null,
   "id": "225092d4-0a06-425d-820f-d3be7369538b",
   "metadata": {},
   "outputs": [],
   "source": []
  },
  {
   "cell_type": "markdown",
   "id": "97ff0660-3c7d-4545-9de1-3fdfb6edd351",
   "metadata": {},
   "source": [
    "### <a href=\"https://www.acmicpc.net/problem/6588\">BOJ 6588</a>"
   ]
  },
  {
   "cell_type": "code",
   "execution_count": null,
   "id": "e5398c04-6f3c-4a12-8c19-1be321320e64",
   "metadata": {},
   "outputs": [],
   "source": []
  }
 ],
 "metadata": {
  "kernelspec": {
   "display_name": "Python 3 (ipykernel)",
   "language": "python",
   "name": "python3"
  },
  "language_info": {
   "codemirror_mode": {
    "name": "ipython",
    "version": 3
   },
   "file_extension": ".py",
   "mimetype": "text/x-python",
   "name": "python",
   "nbconvert_exporter": "python",
   "pygments_lexer": "ipython3",
   "version": "3.9.12"
  }
 },
 "nbformat": 4,
 "nbformat_minor": 5
}
